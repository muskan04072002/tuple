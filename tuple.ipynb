{
 "cells": [
  {
   "cell_type": "code",
   "execution_count": 2,
   "id": "b48ed5e1",
   "metadata": {},
   "outputs": [
    {
     "name": "stdout",
     "output_type": "stream",
     "text": [
      "sample list= [(2, 5), (1, 2), (4, 4), (2, 3), (2, 1)]\n",
      "expected result= [(2, 1), (1, 2), (2, 3), (4, 4), (2, 5)]\n"
     ]
    }
   ],
   "source": [
    " #Python program to get a list, sorted in increasing order by the last element in each tuple from a given list of non-empty tuples\n",
    "def last(n):\n",
    "    return n[-1]\n",
    "tup_list=[(2, 5), (1, 2), (4, 4), (2, 3), (2, 1)]\n",
    "sorted_tup_list=sorted(tup_list,key=last)\n",
    "print(\"sample list=\",tup_list)\n",
    "print(\"expected result=\",sorted_tup_list)"
   ]
  },
  {
   "cell_type": "code",
   "execution_count": null,
   "id": "a338b210",
   "metadata": {},
   "outputs": [],
   "source": []
  }
 ],
 "metadata": {
  "kernelspec": {
   "display_name": "Python 3 (ipykernel)",
   "language": "python",
   "name": "python3"
  },
  "language_info": {
   "codemirror_mode": {
    "name": "ipython",
    "version": 3
   },
   "file_extension": ".py",
   "mimetype": "text/x-python",
   "name": "python",
   "nbconvert_exporter": "python",
   "pygments_lexer": "ipython3",
   "version": "3.9.12"
  }
 },
 "nbformat": 4,
 "nbformat_minor": 5
}
